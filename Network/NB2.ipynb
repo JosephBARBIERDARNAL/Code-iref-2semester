{
 "cells": [
  {
   "cell_type": "code",
   "execution_count": 1,
   "id": "9369e02d-c76f-48bb-97fb-4d65fbde8b5b",
   "metadata": {},
   "outputs": [],
   "source": [
    "import pandas as pd\n",
    "import numpy as np\n",
    "import random\n",
    "import matplotlib.pyplot as plt\n",
    "import networkx as nx\n",
    "import os\n",
    "\n",
    "def numbers():\n",
    "    print(\"Number of edges:\", network.number_of_edges())\n",
    "    print(\"Number of nodes:\", network.number_of_nodes())"
   ]
  },
  {
   "cell_type": "code",
   "execution_count": 2,
   "id": "2f6cd0b4-68be-4699-b191-d97ae1706795",
   "metadata": {},
   "outputs": [],
   "source": [
    "#1\n",
    "path = os.getcwd() + \"/TD/\"\n",
    "data = pd.read_csv(f\"{path}bitcoin.csv\", names=[\"Source\", \"Target\", \"Score\", \"Time\"])\n",
    "data.head()\n",
    "network = nx.from_pandas_edgelist(data,\n",
    "                                  source=\"Source\",\n",
    "                                  target=\"Target\",\n",
    "                                  create_using=nx.DiGraph())"
   ]
  },
  {
   "cell_type": "code",
   "execution_count": 4,
   "id": "60e6b3f1-f030-4c90-812b-5f59f8c071c8",
   "metadata": {},
   "outputs": [
    {
     "data": {
      "text/plain": [
       "True"
      ]
     },
     "execution_count": 4,
     "metadata": {},
     "output_type": "execute_result"
    }
   ],
   "source": [
    "#2\n",
    "nx.is_directed(network)"
   ]
  },
  {
   "cell_type": "code",
   "execution_count": 5,
   "id": "88dcca91-27cf-40dd-869a-88606023790a",
   "metadata": {},
   "outputs": [
    {
     "name": "stdout",
     "output_type": "stream",
     "text": [
      "Number of edges: 24186\n",
      "Number of nodes: 3783\n"
     ]
    }
   ],
   "source": [
    "#3\n",
    "numbers()"
   ]
  },
  {
   "cell_type": "code",
   "execution_count": 10,
   "id": "c4ae5648-b3cf-43b6-b015-1077a3b1ea1a",
   "metadata": {},
   "outputs": [
    {
     "name": "stdout",
     "output_type": "stream",
     "text": [
      "False\n",
      "540\n"
     ]
    }
   ],
   "source": [
    "#4\n",
    "print(nx.is_strongly_connected(network))\n",
    "print(nx.number_strongly_connected_components(network))"
   ]
  },
  {
   "cell_type": "code",
   "execution_count": 19,
   "id": "a24579be-4942-4a0b-865d-df36362eecf9",
   "metadata": {},
   "outputs": [
    {
     "name": "stdout",
     "output_type": "stream",
     "text": [
      "[(2, 40), (3, 40), (4, 40), (6, 40), (7, 40), (9, 40), (10, 40), (12, 40), (14, 40), (15, 40), (16, 40), (17, 40), (18, 40), (22, 40), (23, 40), (32, 40), (37, 40), (271, 40), (632, 40), (177, 40), (47, 40), (129, 40), (256, 40), (77, 40), (54, 40), (1179, 40), (123, 40), (92, 40), (198, 40), (1243, 40), (98, 40), (792, 40), (1401, 40), (121, 40), (2103, 40), (744, 40), (2891, 40), (128, 40), (1794, 40), (3033, 40), (95, 40), (2305, 40), (1029, 40), (103, 40), (7410, 40), (97, 40), (65, 40), (316, 40), (2140, 40), (255, 40), (51, 40), (1478, 40), (2126, 40), (735, 40), (7603, 40), (870, 40), (90, 40), (1132, 40), (1279, 40), (452, 40), (1718, 40), (1717, 40), (1628, 40), (2531, 40), (384, 40), (770, 40), (717, 40), (237, 40), (1077, 40), (234, 40), (851, 40), (148, 40), (1600, 40), (1919, 40), (1226, 40), (379, 40), (45, 40), (989, 40), (917, 40), (44, 40)]\n",
      "[(40, 2), (40, 3), (40, 4), (40, 6), (40, 7), (40, 9), (40, 10), (40, 12), (40, 14), (40, 15), (40, 16), (40, 17), (40, 18), (40, 21), (40, 22), (40, 23), (40, 32), (40, 37), (40, 77), (40, 271), (40, 384), (40, 92), (40, 47), (40, 198), (40, 256), (40, 98), (40, 632), (40, 792), (40, 129), (40, 1224), (40, 1214), (40, 121), (40, 2103), (40, 744), (40, 2891), (40, 128), (40, 1794), (40, 1179), (40, 2314), (40, 3033), (40, 123), (40, 95), (40, 177), (40, 2305), (40, 1029), (40, 103), (40, 268), (40, 7410), (40, 97), (40, 2919), (40, 65), (40, 316), (40, 2140), (40, 255), (40, 51), (40, 1243), (40, 1478), (40, 2126), (40, 735), (40, 870), (40, 90), (40, 1132), (40, 1279), (40, 452), (40, 1718), (40, 1717), (40, 2531), (40, 606), (40, 770), (40, 717), (40, 237), (40, 1077), (40, 234), (40, 851), (40, 148), (40, 1600), (40, 1919), (40, 1226), (40, 45), (40, 917), (40, 379), (40, 989), (40, 44), (40, 1401)]\n"
     ]
    }
   ],
   "source": [
    "#5\n",
    "print(network.in_edges(40))\n",
    "print(network.out_edges(40))"
   ]
  },
  {
   "cell_type": "code",
   "execution_count": 20,
   "id": "3016c4f1-ea45-4283-90b9-ea9e7e6a14cf",
   "metadata": {},
   "outputs": [
    {
     "name": "stdout",
     "output_type": "stream",
     "text": [
      "<dict_keyiterator object at 0x7feb88403a90>\n"
     ]
    }
   ],
   "source": [
    "#6\n",
    "print(network.predecessors(40))"
   ]
  },
  {
   "cell_type": "code",
   "execution_count": 25,
   "id": "53072014-9067-44c1-b0ce-2a26726911e7",
   "metadata": {},
   "outputs": [],
   "source": []
  },
  {
   "cell_type": "code",
   "execution_count": 31,
   "id": "31b19431-7b0b-4c95-bf08-930adb3c5e33",
   "metadata": {},
   "outputs": [
    {
     "data": {
      "image/png": "[encoded data removed]",
      "text/plain": [
       "<Figure size 432x288 with 1 Axes>"
      ]
     },
     "metadata": {
      "needs_background": "light"
     },
     "output_type": "display_data"
    }
   ],
   "source": [
    "#7\n",
    "in_degrees = [val for (node, val) in network.in_degree()]\n",
    "out_degrees = [val for (node, val) in network.in_degree()]\n",
    "\n",
    "fig, ax = plt.subplots()\n",
    "#ax.hist(in_degrees, bins=20)\n",
    "ax.hist(out_degrees, bins=20)\n",
    "ax.title.set_text(\"Degree distribution\")"
   ]
  }
 ],
 "metadata": {
  "kernelspec": {
   "display_name": "Python 3 (ipykernel)",
   "language": "python",
   "name": "python3"
  },
  "language_info": {
   "codemirror_mode": {
    "name": "ipython",
    "version": 3
   },
   "file_extension": ".py",
   "mimetype": "text/x-python",
   "name": "python",
   "nbconvert_exporter": "python",
   "pygments_lexer": "ipython3",
   "version": "3.9.12"
  }
 },
 "nbformat": 4,
 "nbformat_minor": 5
}
