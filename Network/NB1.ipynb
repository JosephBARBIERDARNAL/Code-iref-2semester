{
 "cells": [
  {
   "cell_type": "code",
   "execution_count": 1,
   "id": "6ad577e6-c6af-4b29-92ad-8d1ed19e2c75",
   "metadata": {},
   "outputs": [],
   "source": [
    "import pandas as pd\n",
    "import numpy as np\n",
    "import random\n",
    "import matplotlib.pyplot as plt\n",
    "import networkx as nx\n",
    "import os\n",
    "\n",
    "def numbers():\n",
    "    print(\"Number of edges:\", network.number_of_edges())\n",
    "    print(\"Number of nodes:\", network.number_of_nodes())"
   ]
  },
  {
   "cell_type": "code",
   "execution_count": 2,
   "id": "de0c221f-fb72-49a2-a4f5-757c6fe0e568",
   "metadata": {},
   "outputs": [],
   "source": [
    "#1\n",
    "path = os.getcwd() + \"/TD/\"\n",
    "data = pd.read_csv(f\"{path}marvel.csv\")\n",
    "network = nx.from_pandas_edgelist(data, \"Source\", \"Target\", [\"Weight\"])"
   ]
  },
  {
   "cell_type": "code",
   "execution_count": 3,
   "id": "85aa6404-dad0-4484-820f-5041e69705f1",
   "metadata": {},
   "outputs": [
    {
     "data": {
      "text/plain": [
       "[(\"Black Panther / T'chal\", 'Loki [asgardian]'),\n",
       " (\"Black Panther / T'chal\", 'Mantis / ? Brandt'),\n",
       " (\"Black Panther / T'chal\", 'Iceman / Robert Bobby'),\n",
       " (\"Black Panther / T'chal\", 'Marvel Girl / Jean Grey'),\n",
       " (\"Black Panther / T'chal\", 'Cyclops / Scott Summer'),\n",
       " (\"Black Panther / T'chal\", 'Klaw / Ulysses Klaw'),\n",
       " (\"Black Panther / T'chal\", 'Human Torch / Johnny S'),\n",
       " (\"Black Panther / T'chal\", 'Richards, Franklin B'),\n",
       " (\"Black Panther / T'chal\", 'Wolverine / Logan'),\n",
       " (\"Black Panther / T'chal\", 'Firebird / Bonita Juar')]"
      ]
     },
     "execution_count": 3,
     "metadata": {},
     "output_type": "execute_result"
    }
   ],
   "source": [
    "#2\n",
    "list(network.nodes)[:10]\n",
    "list(network.edges)[:10]"
   ]
  },
  {
   "cell_type": "code",
   "execution_count": 4,
   "id": "a6c01d0a-8451-41e3-a8ea-d3c62010b7b6",
   "metadata": {},
   "outputs": [
    {
     "name": "stdout",
     "output_type": "stream",
     "text": [
      "Number of edges: 9891\n",
      "Number of nodes: 327\n"
     ]
    }
   ],
   "source": [
    "#3\n",
    "numbers()"
   ]
  },
  {
   "cell_type": "code",
   "execution_count": 5,
   "id": "e54e3777-10a4-4184-9de4-a9b04959cec5",
   "metadata": {},
   "outputs": [
    {
     "name": "stdout",
     "output_type": "stream",
     "text": [
      "Number of edges: 9891\n",
      "Number of nodes: 328\n"
     ]
    }
   ],
   "source": [
    "#4\n",
    "network.add_node(\"Pepito\")\n",
    "numbers()"
   ]
  },
  {
   "cell_type": "code",
   "execution_count": 6,
   "id": "4f6240c1-93f2-44a5-844e-242ac58cee5f",
   "metadata": {},
   "outputs": [
    {
     "name": "stdout",
     "output_type": "stream",
     "text": [
      "Number of edges: 9892\n",
      "Number of nodes: 328\n"
     ]
    }
   ],
   "source": [
    "#5\n",
    "network.add_edge(\"Pepito\", \"Loki [asgardian]\")\n",
    "numbers()"
   ]
  },
  {
   "cell_type": "code",
   "execution_count": 7,
   "id": "5da893f7-b2ac-4447-b1de-b86e285407c4",
   "metadata": {},
   "outputs": [
    {
     "name": "stdout",
     "output_type": "stream",
     "text": [
      "Number of edges: 9893\n",
      "Number of nodes: 328\n"
     ]
    }
   ],
   "source": [
    "#6\n",
    "network.add_edge(\"Pepito\", \"Wolverine / Logan\", weight=8)\n",
    "numbers()"
   ]
  },
  {
   "cell_type": "code",
   "execution_count": 8,
   "id": "94757fc4-8099-400a-9664-b10e603d9260",
   "metadata": {},
   "outputs": [
    {
     "name": "stdout",
     "output_type": "stream",
     "text": [
      "Number of edges: 9893\n",
      "Number of nodes: 329\n"
     ]
    }
   ],
   "source": [
    "#7\n",
    "network.add_node(\"Giuseppe\", type=\"Not a hero\")\n",
    "numbers()"
   ]
  },
  {
   "cell_type": "code",
   "execution_count": 9,
   "id": "583c94c1-70ac-4538-90c1-4b57bbf86141",
   "metadata": {},
   "outputs": [
    {
     "name": "stdout",
     "output_type": "stream",
     "text": [
      "The number of edges that Natasha has: 147\n"
     ]
    }
   ],
   "source": [
    "#8\n",
    "deg = network.degree(\"Black Widow / Natasha\")\n",
    "print(f\"The number of edges that Natasha has: {deg}\")"
   ]
  },
  {
   "cell_type": "code",
   "execution_count": 10,
   "id": "d1983802-2767-4ff3-a98b-f7a506597176",
   "metadata": {},
   "outputs": [
    {
     "data": {
      "text/plain": [
       "13"
      ]
     },
     "execution_count": 10,
     "metadata": {},
     "output_type": "execute_result"
    }
   ],
   "source": [
    "#9\n",
    "len(list(network.neighbors(\"Deadpool / Jack / Wade W\")))"
   ]
  },
  {
   "cell_type": "code",
   "execution_count": 11,
   "id": "f38fe08b-5433-4e5c-9f2d-81631be98399",
   "metadata": {},
   "outputs": [
    {
     "name": "stdout",
     "output_type": "stream",
     "text": [
      "Number of edges: 9892\n",
      "Number of nodes: 329\n"
     ]
    }
   ],
   "source": [
    "#10\n",
    "network.remove_edge(\"Pepito\", \"Loki [asgardian]\")\n",
    "numbers()"
   ]
  },
  {
   "cell_type": "code",
   "execution_count": 12,
   "id": "d67d4705-ea7d-4d01-ad9d-ec913b8d6696",
   "metadata": {},
   "outputs": [
    {
     "data": {
      "image/png": "[encoded data removed]",
      "text/plain": [
       "<Figure size 432x288 with 1 Axes>"
      ]
     },
     "metadata": {
      "needs_background": "light"
     },
     "output_type": "display_data"
    }
   ],
   "source": [
    "#11\n",
    "degrees = [val for (node, val) in network.degree()]\n",
    "fig, ax = plt.subplots()\n",
    "ax.hist(degrees, bins=20)\n",
    "ax.title.set_text(\"Degree distribution\")"
   ]
  },
  {
   "cell_type": "code",
   "execution_count": 13,
   "id": "734390f9-46ef-4ac3-a21c-6e80990ea0fc",
   "metadata": {},
   "outputs": [
    {
     "data": {
      "text/plain": [
       "False"
      ]
     },
     "execution_count": 13,
     "metadata": {},
     "output_type": "execute_result"
    }
   ],
   "source": [
    "#12\n",
    "nx.is_connected(network)"
   ]
  },
  {
   "cell_type": "code",
   "execution_count": 14,
   "id": "0ff3e24e-8fa8-4c8a-83d1-96c8b16122c2",
   "metadata": {},
   "outputs": [
    {
     "name": "stdout",
     "output_type": "stream",
     "text": [
      "Density: 18.33 %\n"
     ]
    },
    {
     "data": {
      "text/plain": [
       "0.18333456890799912"
      ]
     },
     "execution_count": 14,
     "metadata": {},
     "output_type": "execute_result"
    }
   ],
   "source": [
    "#13\n",
    "density = round(nx.density(network)*100,2)\n",
    "print(f\"Density: {density} %\")\n",
    "n = len(list(network.nodes))\n",
    "m = len(list(network.edges))\n",
    "m / ((n*(n-1))/2) "
   ]
  },
  {
   "cell_type": "code",
   "execution_count": 15,
   "id": "ddced0b7-7efc-4281-af1c-e65a098c0d1d",
   "metadata": {},
   "outputs": [
    {
     "data": {
      "text/plain": [
       "2"
      ]
     },
     "execution_count": 15,
     "metadata": {},
     "output_type": "execute_result"
    }
   ],
   "source": [
    "#14\n",
    "component = nx.connected_components(network)\n",
    "len(list(component))"
   ]
  }
 ],
 "metadata": {
  "kernelspec": {
   "display_name": "Python 3 (ipykernel)",
   "language": "python",
   "name": "python3"
  },
  "language_info": {
   "codemirror_mode": {
    "name": "ipython",
    "version": 3
   },
   "file_extension": ".py",
   "mimetype": "text/x-python",
   "name": "python",
   "nbconvert_exporter": "python",
   "pygments_lexer": "ipython3",
   "version": "3.9.12"
  }
 },
 "nbformat": 4,
 "nbformat_minor": 5
}
