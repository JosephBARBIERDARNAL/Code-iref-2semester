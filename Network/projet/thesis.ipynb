{
 "cells": [
  {
   "cell_type": "markdown",
   "id": "3ae2e858-b742-4afb-9b8f-b7cb44329f40",
   "metadata": {},
   "source": [
    "# Network Analysis - Impact of a public policy\n",
    "\n",
    "## Problem context\n",
    "\n",
    "For this project, we have access to a grape cluster of scientists before and after the implementation of a public policy. This thesis has 2 main parts: one for the exploratory analysis of the graphs and one for the investigation of the impact of individuals attributes on their connexions. The issue here is to investigate and understand the nature of the changes as well as defining which individuals have been most impacted.\n",
    "\n",
    "## About the network\n",
    "\n",
    "The cluster we are going to work on consists of scientists and the connexions between them.\n",
    "We dispose of informations about each scientist (gender, if he is a coordinator or not and the \"core\" attribute).\n",
    "This network is composed of 381 different scientists."
   ]
  },
  {
   "cell_type": "markdown",
   "id": "c34db0c9-4e02-492b-acfa-f136f1d7a756",
   "metadata": {
    "tags": []
   },
   "source": [
    "## 1 - Network evolution between the two periods\n",
    "\n",
    "#### Preliminary analyses\n",
    "\n",
    "We first observe a 15% (from 1251 to 1440) augmentation of the total number of edges before and after the implementation of the public policy. To be exact, there are 658 of lost edges and 847 new edges, which means that the policy has profoundly changed the structure of the network.\\\n",
    "We can add the fact that neither of the two graphs (before and after the policy) is connected.\n",
    "\n",
    "**The policy had a positive impact on every clustering measure :**\n",
    "\n",
    "Average clustering coefficient \n",
    "- Before graph : 0.389. After graph : 0.463.\n",
    "- Variation of 18.72% \n",
    "\n",
    "Global clustering coefficient \n",
    "- Before graph : 0.435. After graph : 0.462 \n",
    "- Variation of 6.15% \n",
    "\n",
    "\n",
    "To be more precise, the fact that the average clustering coefficient has undergone a larger augmentation than the global one might suggest that the policy had a greater impact on the individuals that had a few connexions.\n",
    "\n",
    "When looking at degree distribution at each period, we notice that before the policy the shape of the distribution was similar to a Poisson distribution and that after it's more uniform.\n",
    "\n",
    "![](hist.jpg)\n",
    "\n",
    "These graphs may confirm the note we made before. It seems clear that the policy is related to edges creation from the individuals that had a few connexions."
   ]
  }
 ],
 "metadata": {
  "kernelspec": {
   "display_name": "Python 3 (ipykernel)",
   "language": "python",
   "name": "python3"
  },
  "language_info": {
   "codemirror_mode": {
    "name": "ipython",
    "version": 3
   },
   "file_extension": ".py",
   "mimetype": "text/x-python",
   "name": "python",
   "nbconvert_exporter": "python",
   "pygments_lexer": "ipython3",
   "version": "3.9.13"
  }
 },
 "nbformat": 4,
 "nbformat_minor": 5
}
