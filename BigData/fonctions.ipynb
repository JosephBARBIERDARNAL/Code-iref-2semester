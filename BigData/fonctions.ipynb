{
 "cells": [
  {
   "cell_type": "code",
   "execution_count": 6,
   "id": "ff093b2b-74bb-4ff0-bdf2-3c4ef04df38a",
   "metadata": {},
   "outputs": [],
   "source": [
    "import pandas as pd\n",
    "import numpy as np\n",
    "def remplacer_libelles(dataframe_base, dataframe_nomenclature, code_colonne, libelle_colonne):\n",
    "    # Créer un dictionnaire avec les codes de référence comme clés et les libellés de référence comme valeurs\n",
    "    dictionnaire_nomenclature = dict(zip(dataframe_nomenclature[code_colonne], dataframe_nomenclature[libelle_colonne]))\n",
    "\n",
    "    # Remplacer les libellés dans le dataframe de base en utilisant le dictionnaire de nomenclature\n",
    "    dataframe_base[libelle_colonne] = dataframe_base[code_colonne].map(dictionnaire_nomenclature).fillna(dataframe_base[libelle_colonne])\n",
    "\n",
    "    return dataframe_base"
   ]
  }
 ],
 "metadata": {
  "kernelspec": {
   "display_name": "Python 3 (ipykernel)",
   "language": "python",
   "name": "python3"
  },
  "language_info": {
   "codemirror_mode": {
    "name": "ipython",
    "version": 3
   },
   "file_extension": ".py",
   "mimetype": "text/x-python",
   "name": "python",
   "nbconvert_exporter": "python",
   "pygments_lexer": "ipython3",
   "version": "3.9.13"
  }
 },
 "nbformat": 4,
 "nbformat_minor": 5
}
