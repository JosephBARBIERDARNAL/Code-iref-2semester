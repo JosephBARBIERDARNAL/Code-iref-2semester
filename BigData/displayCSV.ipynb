{
 "cells": [
  {
   "cell_type": "code",
   "execution_count": 2,
   "id": "9fdb4bd5-1a57-4315-8269-77f5ffd56370",
   "metadata": {},
   "outputs": [],
   "source": [
    "import pandas as pd\n",
    "import os\n",
    "path = os.getcwd()"
   ]
  },
  {
   "cell_type": "code",
   "execution_count": 3,
   "id": "247400c4-0cf0-4a64-8d74-30a6a97acceb",
   "metadata": {},
   "outputs": [
    {
     "name": "stdout",
     "output_type": "stream",
     "text": [
      "(1300, 2)\n",
      "Nomenclature des emplois territoriaux\n"
     ]
    },
    {
     "data": {
      "text/html": [
       "<div>\n",
       "<style scoped>\n",
       "    .dataframe tbody tr th:only-of-type {\n",
       "        vertical-align: middle;\n",
       "    }\n",
       "\n",
       "    .dataframe tbody tr th {\n",
       "        vertical-align: top;\n",
       "    }\n",
       "\n",
       "    .dataframe thead th {\n",
       "        text-align: right;\n",
       "    }\n",
       "</style>\n",
       "<table border=\"1\" class=\"dataframe\">\n",
       "  <thead>\n",
       "    <tr style=\"text-align: right;\">\n",
       "      <th></th>\n",
       "      <th>code</th>\n",
       "      <th>libellé</th>\n",
       "    </tr>\n",
       "  </thead>\n",
       "  <tbody>\n",
       "    <tr>\n",
       "      <th>0</th>\n",
       "      <td>BAD1</td>\n",
       "      <td>Non-TIT. / Administrateur</td>\n",
       "    </tr>\n",
       "  </tbody>\n",
       "</table>\n",
       "</div>"
      ],
      "text/plain": [
       "   code                    libellé\n",
       "0  BAD1  Non-TIT. / Administrateur"
      ]
     },
     "execution_count": 3,
     "metadata": {},
     "output_type": "execute_result"
    }
   ],
   "source": [
    "df = pd.read_csv(f\"{path}/N4DS-NET-V01X16.csv\",\n",
    "                 sep=\";\",\n",
    "                 encoding='latin-1',\n",
    "                 usecols=[0, 1])\n",
    "print(df.shape)\n",
    "print(\"Nomenclature des emplois territoriaux\")\n",
    "df.head()\n",
    "df[df.code==\"BAD1\"]\n",
    "\n"
   ]
  },
  {
   "cell_type": "code",
   "execution_count": null,
   "id": "401749d3-d97a-4b8f-b77e-72613e85ef23",
   "metadata": {},
   "outputs": [],
   "source": []
  },
  {
   "cell_type": "code",
   "execution_count": null,
   "id": "fbf6458c-10a0-4956-8018-6ccb1acd98fb",
   "metadata": {},
   "outputs": [],
   "source": []
  },
  {
   "cell_type": "code",
   "execution_count": 90,
   "id": "7041f7d4-0a6a-4e85-8fdd-7b824bf8c925",
   "metadata": {},
   "outputs": [],
   "source": [
    "def recherche_lib(mod, df=df):\n",
    "    \n",
    "    test1 = df[df[\"libelle_grade_neg\"]==mod]\n",
    "    if len(test1)==0:\n",
    "        print(\"Rien dans libelle_grade_neg\")\n",
    "    else:\n",
    "        return test1\n",
    "    \n",
    "    test2 = df[df[\"libelle_NET_NEH\"]==mod]\n",
    "    if len(test2)==0:\n",
    "        print(\"Rien dans libelle_NET_NEH\")\n",
    "    else:\n",
    "        return test2\n",
    "    \n",
    "    test3 = df[df[\"libelle_NET_NEH_rempl\"]==mod]\n",
    "    if len(test3)==0:\n",
    "        print(\"Rien dans libelle_NET_NEH_rempl\")\n",
    "    else:\n",
    "        return test3"
   ]
  },
  {
   "cell_type": "code",
   "execution_count": 7,
   "id": "3c2c7546-40d0-4368-8d46-068e835b1034",
   "metadata": {},
   "outputs": [
    {
     "name": "stdout",
     "output_type": "stream",
     "text": [
      "(17257, 8)\n"
     ]
    },
    {
     "data": {
      "text/html": [
       "<div>\n",
       "<style scoped>\n",
       "    .dataframe tbody tr th:only-of-type {\n",
       "        vertical-align: middle;\n",
       "    }\n",
       "\n",
       "    .dataframe tbody tr th {\n",
       "        vertical-align: top;\n",
       "    }\n",
       "\n",
       "    .dataframe thead th {\n",
       "        text-align: right;\n",
       "    }\n",
       "</style>\n",
       "<table border=\"1\" class=\"dataframe\">\n",
       "  <thead>\n",
       "    <tr style=\"text-align: right;\">\n",
       "      <th></th>\n",
       "      <th>code_grade_NEG</th>\n",
       "      <th>libelle_grade_neg</th>\n",
       "      <th>code_nomenclature_net_neh</th>\n",
       "      <th>libelle_NET_NEH</th>\n",
       "      <th>libelle_NEG_rempl</th>\n",
       "      <th>libelle_NET_NEH_rempl</th>\n",
       "      <th>code_NETH_rempl</th>\n",
       "      <th>caracteristique</th>\n",
       "    </tr>\n",
       "  </thead>\n",
       "  <tbody>\n",
       "    <tr>\n",
       "      <th>0</th>\n",
       "      <td>0001</td>\n",
       "      <td>ADMINISTRATEUR HORS CLASSE</td>\n",
       "      <td>TAD2</td>\n",
       "      <td>Administrateur hors classe</td>\n",
       "      <td>ADMINISTRATEUR HORS CLASSE</td>\n",
       "      <td>Administrateur hors classe</td>\n",
       "      <td>TAD2</td>\n",
       "      <td>DECRETS 87-1097 ET 87-1098 DU 30 12 1987, MODI...</td>\n",
       "    </tr>\n",
       "    <tr>\n",
       "      <th>1</th>\n",
       "      <td>0002</td>\n",
       "      <td>ADMINISTRATEUR DE PREMIERE CLASSE</td>\n",
       "      <td>AAD1</td>\n",
       "      <td>NaN</td>\n",
       "      <td>ADMINISTRATEUR</td>\n",
       "      <td>Administrateur</td>\n",
       "      <td>TAD1</td>\n",
       "      <td>DECRETS 87-1097 ET 87-1098 DU 30 12 1987</td>\n",
       "    </tr>\n",
       "    <tr>\n",
       "      <th>2</th>\n",
       "      <td>0003</td>\n",
       "      <td>ADMINISTRATEUR DE DEUXIEME CLASSE</td>\n",
       "      <td>AAD1</td>\n",
       "      <td>NaN</td>\n",
       "      <td>ADMINISTRATEUR</td>\n",
       "      <td>Administrateur</td>\n",
       "      <td>TAD1</td>\n",
       "      <td>DECRETS 87-1097 ET 87-1098 DU 30 12 1987</td>\n",
       "    </tr>\n",
       "    <tr>\n",
       "      <th>3</th>\n",
       "      <td>0004</td>\n",
       "      <td>DIRECTEUR DE CLASSE EXCEPTIONNELLE</td>\n",
       "      <td>NaN</td>\n",
       "      <td>NaN</td>\n",
       "      <td>DIRECTEUR TERRITORIAL</td>\n",
       "      <td>Directeur territorial</td>\n",
       "      <td>TAT3</td>\n",
       "      <td>DECRETS 87-1099 ET 87-1100 DU 30 12 1987</td>\n",
       "    </tr>\n",
       "    <tr>\n",
       "      <th>4</th>\n",
       "      <td>0005</td>\n",
       "      <td>DIRECTEUR TERRITORIAL DE CLASSE NORMALE</td>\n",
       "      <td>NaN</td>\n",
       "      <td>NaN</td>\n",
       "      <td>DIRECTEUR TERRITORIAL</td>\n",
       "      <td>Directeur territorial</td>\n",
       "      <td>TAT3</td>\n",
       "      <td>DECRETS 87-1099 ET 87-1100 DU 30 12 1987</td>\n",
       "    </tr>\n",
       "  </tbody>\n",
       "</table>\n",
       "</div>"
      ],
      "text/plain": [
       "  code_grade_NEG                        libelle_grade_neg  \\\n",
       "0           0001               ADMINISTRATEUR HORS CLASSE   \n",
       "1           0002        ADMINISTRATEUR DE PREMIERE CLASSE   \n",
       "2           0003        ADMINISTRATEUR DE DEUXIEME CLASSE   \n",
       "3           0004       DIRECTEUR DE CLASSE EXCEPTIONNELLE   \n",
       "4           0005  DIRECTEUR TERRITORIAL DE CLASSE NORMALE   \n",
       "\n",
       "  code_nomenclature_net_neh             libelle_NET_NEH  \\\n",
       "0                      TAD2  Administrateur hors classe   \n",
       "1                      AAD1                         NaN   \n",
       "2                      AAD1                         NaN   \n",
       "3                       NaN                         NaN   \n",
       "4                       NaN                         NaN   \n",
       "\n",
       "            libelle_NEG_rempl       libelle_NET_NEH_rempl code_NETH_rempl  \\\n",
       "0  ADMINISTRATEUR HORS CLASSE  Administrateur hors classe            TAD2   \n",
       "1              ADMINISTRATEUR              Administrateur            TAD1   \n",
       "2              ADMINISTRATEUR              Administrateur            TAD1   \n",
       "3       DIRECTEUR TERRITORIAL       Directeur territorial            TAT3   \n",
       "4       DIRECTEUR TERRITORIAL       Directeur territorial            TAT3   \n",
       "\n",
       "                                     caracteristique  \n",
       "0  DECRETS 87-1097 ET 87-1098 DU 30 12 1987, MODI...  \n",
       "1           DECRETS 87-1097 ET 87-1098 DU 30 12 1987  \n",
       "2           DECRETS 87-1097 ET 87-1098 DU 30 12 1987  \n",
       "3           DECRETS 87-1099 ET 87-1100 DU 30 12 1987  \n",
       "4           DECRETS 87-1099 ET 87-1100 DU 30 12 1987  "
      ]
     },
     "execution_count": 7,
     "metadata": {},
     "output_type": "execute_result"
    }
   ],
   "source": [
    "df = pd.read_csv(f\"{path}/neg_carac.csv\", sep=\";\", encoding='latin-1')\n",
    "print(df.shape)\n",
    "df.head()\n",
    "#recherche_lib(\"ASHQ\")"
   ]
  },
  {
   "cell_type": "markdown",
   "id": "3b578571-4321-4eba-93ef-e02cdcbd7979",
   "metadata": {},
   "source": [
    "<br>\n",
    "<br>\n",
    "<br>\n",
    "<br>\n",
    "\n",
    "### Evolution des nomenclatures des emploi territoriaux et hospitaliers depuis 1999.EN gros : ce dataset va probablement servir à complèter les données manquantes en piochant les infos qui nous intéressent.\n",
    "\n",
    "### Les données de fin dans le futur représentent (probablement) les nomenclatures en vigueur actuellement. DOnc il est probable que l'on utilise que les date d'effet et de choisir celle la plus proche qui nous intéresse (ex : on cherche la nomenclare de emploi X à date Y, on cherche la nomenclature la plus proche avant la date Y)"
   ]
  },
  {
   "cell_type": "code",
   "execution_count": 18,
   "id": "15d9f083-f803-4f8d-bb88-1b423e137c36",
   "metadata": {},
   "outputs": [
    {
     "name": "stdout",
     "output_type": "stream",
     "text": [
      "(712969, 13)\n"
     ]
    },
    {
     "data": {
      "text/html": [
       "<div>\n",
       "<style scoped>\n",
       "    .dataframe tbody tr th:only-of-type {\n",
       "        vertical-align: middle;\n",
       "    }\n",
       "\n",
       "    .dataframe tbody tr th {\n",
       "        vertical-align: top;\n",
       "    }\n",
       "\n",
       "    .dataframe thead th {\n",
       "        text-align: right;\n",
       "    }\n",
       "</style>\n",
       "<table border=\"1\" class=\"dataframe\">\n",
       "  <thead>\n",
       "    <tr style=\"text-align: right;\">\n",
       "      <th></th>\n",
       "      <th>code_grade_NEG</th>\n",
       "      <th>libelle_grade_neg</th>\n",
       "      <th>code_nomenclature_net_neh</th>\n",
       "      <th>libelle_NET_NEH</th>\n",
       "      <th>date_effet</th>\n",
       "      <th>date_fin</th>\n",
       "      <th>indice_brut</th>\n",
       "      <th>rang_echelon</th>\n",
       "      <th>code_etat</th>\n",
       "      <th>libelle_NEG_rempl</th>\n",
       "      <th>libelle_NET_NEH_rempl</th>\n",
       "      <th>code_NETH_rempl</th>\n",
       "      <th>libelle_statut</th>\n",
       "    </tr>\n",
       "  </thead>\n",
       "  <tbody>\n",
       "    <tr>\n",
       "      <th>0</th>\n",
       "      <td>0001</td>\n",
       "      <td>ADMINISTRATEUR HORS CLASSE</td>\n",
       "      <td>TAD2</td>\n",
       "      <td>Administrateur hors classe</td>\n",
       "      <td>01JAN1988</td>\n",
       "      <td>05/06/2000</td>\n",
       "      <td>801</td>\n",
       "      <td>1</td>\n",
       "      <td>1</td>\n",
       "      <td>ADMINISTRATEUR HORS CLASSE</td>\n",
       "      <td>Administrateur hors classe</td>\n",
       "      <td>TAD2</td>\n",
       "      <td>Fonction publique territoriale</td>\n",
       "    </tr>\n",
       "    <tr>\n",
       "      <th>1</th>\n",
       "      <td>0001</td>\n",
       "      <td>ADMINISTRATEUR HORS CLASSE</td>\n",
       "      <td>TAD2</td>\n",
       "      <td>Administrateur hors classe</td>\n",
       "      <td>01JAN1988</td>\n",
       "      <td>05/06/2000</td>\n",
       "      <td>852</td>\n",
       "      <td>2</td>\n",
       "      <td>1</td>\n",
       "      <td>ADMINISTRATEUR HORS CLASSE</td>\n",
       "      <td>Administrateur hors classe</td>\n",
       "      <td>TAD2</td>\n",
       "      <td>Fonction publique territoriale</td>\n",
       "    </tr>\n",
       "    <tr>\n",
       "      <th>2</th>\n",
       "      <td>0001</td>\n",
       "      <td>ADMINISTRATEUR HORS CLASSE</td>\n",
       "      <td>TAD2</td>\n",
       "      <td>Administrateur hors classe</td>\n",
       "      <td>01JAN1988</td>\n",
       "      <td>05/06/2000</td>\n",
       "      <td>901</td>\n",
       "      <td>3</td>\n",
       "      <td>1</td>\n",
       "      <td>ADMINISTRATEUR HORS CLASSE</td>\n",
       "      <td>Administrateur hors classe</td>\n",
       "      <td>TAD2</td>\n",
       "      <td>Fonction publique territoriale</td>\n",
       "    </tr>\n",
       "    <tr>\n",
       "      <th>3</th>\n",
       "      <td>0001</td>\n",
       "      <td>ADMINISTRATEUR HORS CLASSE</td>\n",
       "      <td>TAD2</td>\n",
       "      <td>Administrateur hors classe</td>\n",
       "      <td>01JAN1988</td>\n",
       "      <td>05/06/2000</td>\n",
       "      <td>966</td>\n",
       "      <td>4</td>\n",
       "      <td>1</td>\n",
       "      <td>ADMINISTRATEUR HORS CLASSE</td>\n",
       "      <td>Administrateur hors classe</td>\n",
       "      <td>TAD2</td>\n",
       "      <td>Fonction publique territoriale</td>\n",
       "    </tr>\n",
       "    <tr>\n",
       "      <th>4</th>\n",
       "      <td>0001</td>\n",
       "      <td>ADMINISTRATEUR HORS CLASSE</td>\n",
       "      <td>TAD2</td>\n",
       "      <td>Administrateur hors classe</td>\n",
       "      <td>01JAN1988</td>\n",
       "      <td>05/06/2000</td>\n",
       "      <td>1015</td>\n",
       "      <td>5</td>\n",
       "      <td>1</td>\n",
       "      <td>ADMINISTRATEUR HORS CLASSE</td>\n",
       "      <td>Administrateur hors classe</td>\n",
       "      <td>TAD2</td>\n",
       "      <td>Fonction publique territoriale</td>\n",
       "    </tr>\n",
       "  </tbody>\n",
       "</table>\n",
       "</div>"
      ],
      "text/plain": [
       "  code_grade_NEG           libelle_grade_neg code_nomenclature_net_neh  \\\n",
       "0           0001  ADMINISTRATEUR HORS CLASSE                      TAD2   \n",
       "1           0001  ADMINISTRATEUR HORS CLASSE                      TAD2   \n",
       "2           0001  ADMINISTRATEUR HORS CLASSE                      TAD2   \n",
       "3           0001  ADMINISTRATEUR HORS CLASSE                      TAD2   \n",
       "4           0001  ADMINISTRATEUR HORS CLASSE                      TAD2   \n",
       "\n",
       "              libelle_NET_NEH date_effet    date_fin  indice_brut  \\\n",
       "0  Administrateur hors classe  01JAN1988  05/06/2000          801   \n",
       "1  Administrateur hors classe  01JAN1988  05/06/2000          852   \n",
       "2  Administrateur hors classe  01JAN1988  05/06/2000          901   \n",
       "3  Administrateur hors classe  01JAN1988  05/06/2000          966   \n",
       "4  Administrateur hors classe  01JAN1988  05/06/2000         1015   \n",
       "\n",
       "   rang_echelon  code_etat           libelle_NEG_rempl  \\\n",
       "0             1          1  ADMINISTRATEUR HORS CLASSE   \n",
       "1             2          1  ADMINISTRATEUR HORS CLASSE   \n",
       "2             3          1  ADMINISTRATEUR HORS CLASSE   \n",
       "3             4          1  ADMINISTRATEUR HORS CLASSE   \n",
       "4             5          1  ADMINISTRATEUR HORS CLASSE   \n",
       "\n",
       "        libelle_NET_NEH_rempl code_NETH_rempl                  libelle_statut  \n",
       "0  Administrateur hors classe            TAD2  Fonction publique territoriale  \n",
       "1  Administrateur hors classe            TAD2  Fonction publique territoriale  \n",
       "2  Administrateur hors classe            TAD2  Fonction publique territoriale  \n",
       "3  Administrateur hors classe            TAD2  Fonction publique territoriale  \n",
       "4  Administrateur hors classe            TAD2  Fonction publique territoriale  "
      ]
     },
     "execution_count": 18,
     "metadata": {},
     "output_type": "execute_result"
    }
   ],
   "source": [
    "df = pd.read_csv(f\"{path}/neg_net_neh.csv\", sep=\";\", encoding='latin-1', low_memory=False)\n",
    "print(df.shape)\n",
    "df.head(5)\n",
    "#df[df[\"code_NETH_rempl\"]==\"TAD2\"]\n",
    "#df[df.date_effet.str.contains(\"2008\")]\n",
    "#print(df.code_NETH_rempl.isna().sum())\n",
    "#print(df.libelle_NET_NEH_rempl.isna().sum())\n",
    "#df.isna().sum()\n",
    "#df[df.code_grade_NEG == \"1314\"]"
   ]
  },
  {
   "cell_type": "code",
   "execution_count": 23,
   "id": "adebb403-ff0c-4467-ae29-3e8cffe98157",
   "metadata": {},
   "outputs": [
    {
     "name": "stdout",
     "output_type": "stream",
     "text": [
      "(6534962, 10)\n",
      "   ID_CARRIERE  date_debut    date_fin  ETAT CATEGORIE_EMPLOI QUALITE  \\\n",
      "0           98  01/09/1993  31/12/1993     1                A       S   \n",
      "1           98  01/01/1994  31/08/1994     1                A       S   \n",
      "2           98  01/09/1994  31/12/1994     1                A       T   \n",
      "3           98  01/01/1995  30/04/1995     1                A       T   \n",
      "4           98  01/05/1995  31/12/1995     1                A       T   \n",
      "\n",
      "  STATUT_AGENT  INDICE_BRUT EMPLOI_STATUTAIRE LIBELLE_EMPLOI_GRADE  \n",
      "0            T        232.0               NaN      Agent Technique  \n",
      "1            T        232.0               NaN      Agent Technique  \n",
      "2            T        242.0               NaN      Agent Technique  \n",
      "3            T        242.0               NaN      Agent Technique  \n",
      "4            T        257.0               NaN      Agent Technique  \n"
     ]
    },
    {
     "data": {
      "text/plain": [
       "ID_CARRIERE                   0\n",
       "date_debut                    0\n",
       "date_fin                      0\n",
       "ETAT                          0\n",
       "CATEGORIE_EMPLOI           1431\n",
       "QUALITE                    1973\n",
       "STATUT_AGENT               1959\n",
       "INDICE_BRUT             1055117\n",
       "EMPLOI_STATUTAIRE       2925509\n",
       "LIBELLE_EMPLOI_GRADE     206424\n",
       "dtype: int64"
      ]
     },
     "execution_count": 23,
     "metadata": {},
     "output_type": "execute_result"
    }
   ],
   "source": [
    "df = pd.read_csv(f\"{path}/hackhaton_100k_alea_b.csv\", sep=\";\", encoding='latin-1', low_memory=False)\n",
    "print(df.shape)\n",
    "print(df.head())\n",
    "#df = df[df[\"ID_CARRIERE\"]==98]\n",
    "#df.loc[100:200,:]\n",
    "df.isna().sum()"
   ]
  },
  {
   "cell_type": "code",
   "execution_count": 74,
   "id": "30092f3a-2476-45a8-9a89-92f2cb3f284a",
   "metadata": {},
   "outputs": [
    {
     "data": {
      "text/plain": [
       "TTT3    23\n",
       "Name: EMPLOI_STATUTAIRE, dtype: int64"
      ]
     },
     "execution_count": 74,
     "metadata": {},
     "output_type": "execute_result"
    }
   ],
   "source": [
    "df_ = df[df[\"ID_CARRIERE\"]==98]\n",
    "df_.EMPLOI_STATUTAIRE.value_counts()"
   ]
  },
  {
   "cell_type": "code",
   "execution_count": 64,
   "id": "433e85b8-a5fc-4d3f-adea-a7376e951ad9",
   "metadata": {},
   "outputs": [
    {
     "data": {
      "text/plain": [
       "<AxesSubplot:xlabel='date_debut', ylabel='INDICE_BRUT'>"
      ]
     },
     "execution_count": 64,
     "metadata": {},
     "output_type": "execute_result"
    },
    {
     "data": {
      "image/png": "[encoded data removed]",
      "text/plain": [
       "<Figure size 640x480 with 1 Axes>"
      ]
     },
     "metadata": {},
     "output_type": "display_data"
    }
   ],
   "source": [
    "df_.plot(\"date_debut\",\"INDICE_BRUT\", kind=\"scatter\")"
   ]
  },
  {
   "cell_type": "code",
   "execution_count": 3,
   "id": "778e85fb-75b6-483c-8710-29e2e13e846f",
   "metadata": {},
   "outputs": [
    {
     "name": "stdout",
     "output_type": "stream",
     "text": [
      "(1048575, 12)\n"
     ]
    },
    {
     "data": {
      "text/html": [
       "<div>\n",
       "<style scoped>\n",
       "    .dataframe tbody tr th:only-of-type {\n",
       "        vertical-align: middle;\n",
       "    }\n",
       "\n",
       "    .dataframe tbody tr th {\n",
       "        vertical-align: top;\n",
       "    }\n",
       "\n",
       "    .dataframe thead th {\n",
       "        text-align: right;\n",
       "    }\n",
       "</style>\n",
       "<table border=\"1\" class=\"dataframe\">\n",
       "  <thead>\n",
       "    <tr style=\"text-align: right;\">\n",
       "      <th></th>\n",
       "      <th>ID_CARRIERE</th>\n",
       "      <th>date_debut</th>\n",
       "      <th>date_fin</th>\n",
       "      <th>ETAT</th>\n",
       "      <th>CATEGORIE_EMPLOI</th>\n",
       "      <th>QUALITE</th>\n",
       "      <th>STATUT_AGENT</th>\n",
       "      <th>INDICE_BRUT</th>\n",
       "      <th>EMPLOI_STATUTAIRE</th>\n",
       "      <th>LIBELLE_EMPLOI_GRADE</th>\n",
       "      <th>Unnamed: 10</th>\n",
       "      <th>Unnamed: 11</th>\n",
       "    </tr>\n",
       "  </thead>\n",
       "  <tbody>\n",
       "    <tr>\n",
       "      <th>0</th>\n",
       "      <td>56</td>\n",
       "      <td>01/01/1999</td>\n",
       "      <td>26/03/1999</td>\n",
       "      <td>1</td>\n",
       "      <td>A</td>\n",
       "      <td>T</td>\n",
       "      <td>T</td>\n",
       "      <td>NaN</td>\n",
       "      <td>NaN</td>\n",
       "      <td>ADJOINT ADMINISTRATIF.........</td>\n",
       "      <td>NaN</td>\n",
       "      <td>NaN</td>\n",
       "    </tr>\n",
       "    <tr>\n",
       "      <th>1</th>\n",
       "      <td>56</td>\n",
       "      <td>27/03/1999</td>\n",
       "      <td>16/07/1999</td>\n",
       "      <td>1</td>\n",
       "      <td>A</td>\n",
       "      <td>T</td>\n",
       "      <td>T</td>\n",
       "      <td>NaN</td>\n",
       "      <td>NaN</td>\n",
       "      <td>ADJOINT ADMINISTRATIF.........</td>\n",
       "      <td>NaN</td>\n",
       "      <td>NaN</td>\n",
       "    </tr>\n",
       "    <tr>\n",
       "      <th>2</th>\n",
       "      <td>56</td>\n",
       "      <td>17/07/1999</td>\n",
       "      <td>31/12/1999</td>\n",
       "      <td>1</td>\n",
       "      <td>A</td>\n",
       "      <td>T</td>\n",
       "      <td>T</td>\n",
       "      <td>NaN</td>\n",
       "      <td>NaN</td>\n",
       "      <td>ADJOINT ADMINISTRATIF.........</td>\n",
       "      <td>NaN</td>\n",
       "      <td>NaN</td>\n",
       "    </tr>\n",
       "    <tr>\n",
       "      <th>3</th>\n",
       "      <td>56</td>\n",
       "      <td>01/01/2000</td>\n",
       "      <td>02/07/2000</td>\n",
       "      <td>1</td>\n",
       "      <td>A</td>\n",
       "      <td>T</td>\n",
       "      <td>T</td>\n",
       "      <td>NaN</td>\n",
       "      <td>NaN</td>\n",
       "      <td>ADJOINT ADMINISTRATIF.........</td>\n",
       "      <td>NaN</td>\n",
       "      <td>NaN</td>\n",
       "    </tr>\n",
       "    <tr>\n",
       "      <th>4</th>\n",
       "      <td>56</td>\n",
       "      <td>03/07/2000</td>\n",
       "      <td>19/07/2000</td>\n",
       "      <td>1</td>\n",
       "      <td>A</td>\n",
       "      <td>T</td>\n",
       "      <td>T</td>\n",
       "      <td>NaN</td>\n",
       "      <td>NaN</td>\n",
       "      <td>ADJOINT ADMINISTRATIF.........</td>\n",
       "      <td>NaN</td>\n",
       "      <td>NaN</td>\n",
       "    </tr>\n",
       "  </tbody>\n",
       "</table>\n",
       "</div>"
      ],
      "text/plain": [
       "   ID_CARRIERE  date_debut    date_fin  ETAT CATEGORIE_EMPLOI QUALITE  \\\n",
       "0           56  01/01/1999  26/03/1999     1                A       T   \n",
       "1           56  27/03/1999  16/07/1999     1                A       T   \n",
       "2           56  17/07/1999  31/12/1999     1                A       T   \n",
       "3           56  01/01/2000  02/07/2000     1                A       T   \n",
       "4           56  03/07/2000  19/07/2000     1                A       T   \n",
       "\n",
       "  STATUT_AGENT  INDICE_BRUT EMPLOI_STATUTAIRE            LIBELLE_EMPLOI_GRADE  \\\n",
       "0            T          NaN               NaN  ADJOINT ADMINISTRATIF.........   \n",
       "1            T          NaN               NaN  ADJOINT ADMINISTRATIF.........   \n",
       "2            T          NaN               NaN  ADJOINT ADMINISTRATIF.........   \n",
       "3            T          NaN               NaN  ADJOINT ADMINISTRATIF.........   \n",
       "4            T          NaN               NaN  ADJOINT ADMINISTRATIF.........   \n",
       "\n",
       "  Unnamed: 10 Unnamed: 11  \n",
       "0         NaN         NaN  \n",
       "1         NaN         NaN  \n",
       "2         NaN         NaN  \n",
       "3         NaN         NaN  \n",
       "4         NaN         NaN  "
      ]
     },
     "execution_count": 3,
     "metadata": {},
     "output_type": "execute_result"
    }
   ],
   "source": [
    "df = pd.read_csv(f\"{path}/hackhaton_020k_alea_b.csv\", encoding='latin-1', low_memory=False)\n",
    "print(df.shape)\n",
    "df.head(5)"
   ]
  },
  {
   "cell_type": "code",
   "execution_count": 4,
   "id": "df959e69-a571-4641-b3b0-5576b7483cfa",
   "metadata": {},
   "outputs": [
    {
     "data": {
      "text/plain": [
       "14010"
      ]
     },
     "execution_count": 4,
     "metadata": {},
     "output_type": "execute_result"
    }
   ],
   "source": [
    "len(df.ID_CARRIERE.value_counts())"
   ]
  }
 ],
 "metadata": {
  "kernelspec": {
   "display_name": "Python 3 (ipykernel)",
   "language": "python",
   "name": "python3"
  },
  "language_info": {
   "codemirror_mode": {
    "name": "ipython",
    "version": 3
   },
   "file_extension": ".py",
   "mimetype": "text/x-python",
   "name": "python",
   "nbconvert_exporter": "python",
   "pygments_lexer": "ipython3",
   "version": "3.9.13"
  }
 },
 "nbformat": 4,
 "nbformat_minor": 5
}
