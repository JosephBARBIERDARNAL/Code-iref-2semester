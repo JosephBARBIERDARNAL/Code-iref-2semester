{
 "cells": [
  {
   "cell_type": "code",
   "execution_count": 1,
   "id": "c9026960-a053-4d61-a245-3ae2c079a826",
   "metadata": {},
   "outputs": [],
   "source": [
    "import pandas as pd\n",
    "import numpy as np"
   ]
  },
  {
   "cell_type": "markdown",
   "id": "5e5cf4bb-41dc-4e9d-bb3c-c8766471efb9",
   "metadata": {},
   "source": [
    "<br>\n",
    "\n",
    "### Remplissage de la variable code_NETH_rempl"
   ]
  },
  {
   "cell_type": "code",
   "execution_count": 2,
   "id": "eb84fccf-3a31-4b0b-8be7-5a6913094402",
   "metadata": {},
   "outputs": [],
   "source": [
    "#ouverture du datasey avec tous les codes\n",
    "#variables = [\"libelle_NEG_rempl\", \"code_grade_NEG\", \"code_NETH_rempl\", \"code_nomenclature_net_neh\"]\n",
    "df = pd.read_csv(f\"neg_net_neh.csv\",\n",
    "                 sep=\";\",\n",
    "                 encoding='latin-1',\n",
    "                 low_memory=False)\n",
    "\n",
    "#fonction pour remplir les valeurs manquantes de code_NETH_rempl\n",
    "def fill_code_NETH_rempl(row):\n",
    "    if pd.notnull(row['code_nomenclature_net_neh']):\n",
    "        return row['code_nomenclature_net_neh']\n",
    "    elif pd.notnull(row['code_grade_NEG']):\n",
    "        return row['code_grade_NEG']\n",
    "    else:\n",
    "        return np.nan\n",
    "\n",
    "#appliquer la fonction à toutes lignes\n",
    "df['code_NETH_rempl'] = df.apply(fill_code_NETH_rempl, axis=1)\n",
    "\n",
    "#on vire les colonnes inutiles\n",
    "df = df.drop([\"libelle_statut\",\n",
    "              \"libelle_NET_NEH_rempl\",\n",
    "              \"libelle_grade_neg\",\n",
    "              \"libelle_NET_NEH\",\n",
    "              \"code_grade_NEG\",\n",
    "              \"code_nomenclature_net_neh\"], axis=1)"
   ]
  },
  {
   "cell_type": "code",
   "execution_count": 3,
   "id": "8f17c017-8d8b-4003-9432-224574a94947",
   "metadata": {},
   "outputs": [
    {
     "data": {
      "text/html": [
       "<div>\n",
       "<style scoped>\n",
       "    .dataframe tbody tr th:only-of-type {\n",
       "        vertical-align: middle;\n",
       "    }\n",
       "\n",
       "    .dataframe tbody tr th {\n",
       "        vertical-align: top;\n",
       "    }\n",
       "\n",
       "    .dataframe thead th {\n",
       "        text-align: right;\n",
       "    }\n",
       "</style>\n",
       "<table border=\"1\" class=\"dataframe\">\n",
       "  <thead>\n",
       "    <tr style=\"text-align: right;\">\n",
       "      <th></th>\n",
       "      <th>date_effet</th>\n",
       "      <th>date_fin</th>\n",
       "      <th>indice_brut</th>\n",
       "      <th>rang_echelon</th>\n",
       "      <th>code_etat</th>\n",
       "      <th>code_NETH_rempl</th>\n",
       "      <th>libelle</th>\n",
       "    </tr>\n",
       "    <tr>\n",
       "      <th>libelle_NEG_rempl</th>\n",
       "      <th></th>\n",
       "      <th></th>\n",
       "      <th></th>\n",
       "      <th></th>\n",
       "      <th></th>\n",
       "      <th></th>\n",
       "      <th></th>\n",
       "    </tr>\n",
       "  </thead>\n",
       "  <tbody>\n",
       "    <tr>\n",
       "      <th>BRIGADIER DE POLICE</th>\n",
       "      <td>01JAN2003</td>\n",
       "      <td>12/12/2099</td>\n",
       "      <td>555</td>\n",
       "      <td>1</td>\n",
       "      <td>1</td>\n",
       "      <td>S13358</td>\n",
       "      <td>BRIGADIER DE POLICE</td>\n",
       "    </tr>\n",
       "    <tr>\n",
       "      <th>DIRECTEUR DE FOYER RESIDENCE POUR PERSONNES AGEES</th>\n",
       "      <td>01DEC1987</td>\n",
       "      <td>01/12/1987</td>\n",
       "      <td>431</td>\n",
       "      <td>1</td>\n",
       "      <td>1</td>\n",
       "      <td>S08713</td>\n",
       "      <td>DIRECTEUR DE FOYER RESIDENCE POUR PERSONNES AGEES</td>\n",
       "    </tr>\n",
       "    <tr>\n",
       "      <th>RESPONSABLE DU SERVICE ENTRETIEN DES BATIMENTS</th>\n",
       "      <td>01JUL1985</td>\n",
       "      <td>12/12/2099</td>\n",
       "      <td>250</td>\n",
       "      <td>1</td>\n",
       "      <td>1</td>\n",
       "      <td>S11163</td>\n",
       "      <td>RESPONSABLE DU SERVICE ENTRETIEN DES BATIMENTS</td>\n",
       "    </tr>\n",
       "    <tr>\n",
       "      <th>AGENT DE SECURITE IGH</th>\n",
       "      <td>24JAN1983</td>\n",
       "      <td>12/12/2099</td>\n",
       "      <td>262</td>\n",
       "      <td>1</td>\n",
       "      <td>1</td>\n",
       "      <td>S01586</td>\n",
       "      <td>AGENT DE SECURITE IGH</td>\n",
       "    </tr>\n",
       "    <tr>\n",
       "      <th>MEDECIN GENERALISTE</th>\n",
       "      <td>01MAY1988</td>\n",
       "      <td>12/12/2099</td>\n",
       "      <td>807</td>\n",
       "      <td>1</td>\n",
       "      <td>1</td>\n",
       "      <td>S05652</td>\n",
       "      <td>MEDECIN GENERALISTE</td>\n",
       "    </tr>\n",
       "  </tbody>\n",
       "</table>\n",
       "</div>"
      ],
      "text/plain": [
       "                                                  date_effet    date_fin  \\\n",
       "libelle_NEG_rempl                                                          \n",
       "BRIGADIER DE POLICE                                01JAN2003  12/12/2099   \n",
       "DIRECTEUR DE FOYER RESIDENCE POUR PERSONNES AGEES  01DEC1987  01/12/1987   \n",
       "RESPONSABLE DU SERVICE ENTRETIEN DES BATIMENTS     01JUL1985  12/12/2099   \n",
       "AGENT DE SECURITE IGH                              24JAN1983  12/12/2099   \n",
       "MEDECIN GENERALISTE                                01MAY1988  12/12/2099   \n",
       "\n",
       "                                                   indice_brut  rang_echelon  \\\n",
       "libelle_NEG_rempl                                                              \n",
       "BRIGADIER DE POLICE                                        555             1   \n",
       "DIRECTEUR DE FOYER RESIDENCE POUR PERSONNES AGEES          431             1   \n",
       "RESPONSABLE DU SERVICE ENTRETIEN DES BATIMENTS             250             1   \n",
       "AGENT DE SECURITE IGH                                      262             1   \n",
       "MEDECIN GENERALISTE                                        807             1   \n",
       "\n",
       "                                                   code_etat code_NETH_rempl  \\\n",
       "libelle_NEG_rempl                                                              \n",
       "BRIGADIER DE POLICE                                        1          S13358   \n",
       "DIRECTEUR DE FOYER RESIDENCE POUR PERSONNES AGEES          1          S08713   \n",
       "RESPONSABLE DU SERVICE ENTRETIEN DES BATIMENTS             1          S11163   \n",
       "AGENT DE SECURITE IGH                                      1          S01586   \n",
       "MEDECIN GENERALISTE                                        1          S05652   \n",
       "\n",
       "                                                                                             libelle  \n",
       "libelle_NEG_rempl                                                                                     \n",
       "BRIGADIER DE POLICE                                                              BRIGADIER DE POLICE  \n",
       "DIRECTEUR DE FOYER RESIDENCE POUR PERSONNES AGEES  DIRECTEUR DE FOYER RESIDENCE POUR PERSONNES AGEES  \n",
       "RESPONSABLE DU SERVICE ENTRETIEN DES BATIMENTS        RESPONSABLE DU SERVICE ENTRETIEN DES BATIMENTS  \n",
       "AGENT DE SECURITE IGH                                                          AGENT DE SECURITE IGH  \n",
       "MEDECIN GENERALISTE                                                              MEDECIN GENERALISTE  "
      ]
     },
     "execution_count": 3,
     "metadata": {},
     "output_type": "execute_result"
    }
   ],
   "source": [
    "df = df.sort_values(['libelle_NEG_rempl', 'date_fin'])\n",
    "df_last = df.groupby('libelle_NEG_rempl').first()\n",
    "df_last[\"libelle\"] = df_last.index\n",
    "df_last.sample(5)"
   ]
  },
  {
   "cell_type": "code",
   "execution_count": 4,
   "id": "08a33c77-3748-4573-9f76-817592adeaac",
   "metadata": {},
   "outputs": [],
   "source": [
    "df.to_csv(\"nomenclature.csv\", index=False)"
   ]
  },
  {
   "cell_type": "code",
   "execution_count": 8,
   "id": "e2871d47-be6e-4c8c-9312-433a5089673c",
   "metadata": {},
   "outputs": [
    {
     "data": {
      "text/plain": [
       "9251"
      ]
     },
     "execution_count": 8,
     "metadata": {},
     "output_type": "execute_result"
    }
   ],
   "source": [
    "df=pd.read_csv(\"nomenclature.csv\")\n",
    "len(set(df.libelle_NEG_rempl))"
   ]
  }
 ],
 "metadata": {
  "kernelspec": {
   "display_name": "Python 3 (ipykernel)",
   "language": "python",
   "name": "python3"
  },
  "language_info": {
   "codemirror_mode": {
    "name": "ipython",
    "version": 3
   },
   "file_extension": ".py",
   "mimetype": "text/x-python",
   "name": "python",
   "nbconvert_exporter": "python",
   "pygments_lexer": "ipython3",
   "version": "3.9.13"
  }
 },
 "nbformat": 4,
 "nbformat_minor": 5
}
