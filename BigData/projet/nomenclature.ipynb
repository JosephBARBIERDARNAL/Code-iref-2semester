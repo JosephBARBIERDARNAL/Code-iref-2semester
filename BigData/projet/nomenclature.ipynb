{
 "cells": [
  {
   "cell_type": "code",
   "execution_count": 23,
   "id": "c9026960-a053-4d61-a245-3ae2c079a826",
   "metadata": {},
   "outputs": [],
   "source": [
    "import pandas as pd\n",
    "import numpy as np"
   ]
  },
  {
   "cell_type": "markdown",
   "id": "5e5cf4bb-41dc-4e9d-bb3c-c8766471efb9",
   "metadata": {},
   "source": [
    "<br>\n",
    "\n",
    "### Remplissage de la variable code_NETH_rempl"
   ]
  },
  {
   "cell_type": "code",
   "execution_count": 24,
   "id": "eb84fccf-3a31-4b0b-8be7-5a6913094402",
   "metadata": {},
   "outputs": [],
   "source": [
    "#ouverture du datasey avec tous les codes\n",
    "#variables = [\"libelle_NEG_rempl\", \"code_grade_NEG\", \"code_NETH_rempl\", \"code_nomenclature_net_neh\"]\n",
    "df = pd.read_csv(f\"neg_net_neh.csv\",\n",
    "                 sep=\";\",\n",
    "                 encoding='latin-1',\n",
    "                 low_memory=False)\n",
    "\n",
    "#fonction pour remplir les valeurs manquantes de code_NETH_rempl\n",
    "def fill_code_NETH_rempl(row):\n",
    "    if pd.notnull(row['code_nomenclature_net_neh']):\n",
    "        return row['code_nomenclature_net_neh']\n",
    "    elif pd.notnull(row['code_grade_NEG']):\n",
    "        return row['code_grade_NEG']\n",
    "    else:\n",
    "        return np.nan\n",
    "\n",
    "#appliquer la fonction à toutes lignes\n",
    "df['code_NETH_rempl'] = df.apply(fill_code_NETH_rempl, axis=1)\n",
    "\n",
    "#on vire les colonnes inutiles\n",
    "df = df.drop([\"libelle_statut\",\n",
    "              \"libelle_NET_NEH_rempl\",\n",
    "              \"libelle_grade_neg\",\n",
    "              \"libelle_NET_NEH\",\n",
    "              \"code_grade_NEG\",\n",
    "              \"code_nomenclature_net_neh\"], axis=1)"
   ]
  },
  {
   "cell_type": "code",
   "execution_count": 27,
   "id": "08a33c77-3748-4573-9f76-817592adeaac",
   "metadata": {},
   "outputs": [
    {
     "name": "stdout",
     "output_type": "stream",
     "text": [
      "date_effet           0\n",
      "date_fin             0\n",
      "indice_brut          0\n",
      "rang_echelon         0\n",
      "code_etat            0\n",
      "libelle_NEG_rempl    0\n",
      "code_NETH_rempl      0\n",
      "dtype: int64\n"
     ]
    },
    {
     "data": {
      "text/html": [
       "<div>\n",
       "<style scoped>\n",
       "    .dataframe tbody tr th:only-of-type {\n",
       "        vertical-align: middle;\n",
       "    }\n",
       "\n",
       "    .dataframe tbody tr th {\n",
       "        vertical-align: top;\n",
       "    }\n",
       "\n",
       "    .dataframe thead th {\n",
       "        text-align: right;\n",
       "    }\n",
       "</style>\n",
       "<table border=\"1\" class=\"dataframe\">\n",
       "  <thead>\n",
       "    <tr style=\"text-align: right;\">\n",
       "      <th></th>\n",
       "      <th>date_effet</th>\n",
       "      <th>date_fin</th>\n",
       "      <th>indice_brut</th>\n",
       "      <th>rang_echelon</th>\n",
       "      <th>code_etat</th>\n",
       "      <th>libelle_NEG_rempl</th>\n",
       "      <th>code_NETH_rempl</th>\n",
       "    </tr>\n",
       "  </thead>\n",
       "  <tbody>\n",
       "    <tr>\n",
       "      <th>0</th>\n",
       "      <td>01JAN1988</td>\n",
       "      <td>05/06/2000</td>\n",
       "      <td>801</td>\n",
       "      <td>1</td>\n",
       "      <td>1</td>\n",
       "      <td>ADMINISTRATEUR HORS CLASSE</td>\n",
       "      <td>TAD2</td>\n",
       "    </tr>\n",
       "    <tr>\n",
       "      <th>1</th>\n",
       "      <td>01JAN1988</td>\n",
       "      <td>05/06/2000</td>\n",
       "      <td>852</td>\n",
       "      <td>2</td>\n",
       "      <td>1</td>\n",
       "      <td>ADMINISTRATEUR HORS CLASSE</td>\n",
       "      <td>TAD2</td>\n",
       "    </tr>\n",
       "    <tr>\n",
       "      <th>2</th>\n",
       "      <td>01JAN1988</td>\n",
       "      <td>05/06/2000</td>\n",
       "      <td>901</td>\n",
       "      <td>3</td>\n",
       "      <td>1</td>\n",
       "      <td>ADMINISTRATEUR HORS CLASSE</td>\n",
       "      <td>TAD2</td>\n",
       "    </tr>\n",
       "  </tbody>\n",
       "</table>\n",
       "</div>"
      ],
      "text/plain": [
       "  date_effet    date_fin  indice_brut  rang_echelon  code_etat  \\\n",
       "0  01JAN1988  05/06/2000          801             1          1   \n",
       "1  01JAN1988  05/06/2000          852             2          1   \n",
       "2  01JAN1988  05/06/2000          901             3          1   \n",
       "\n",
       "            libelle_NEG_rempl code_NETH_rempl  \n",
       "0  ADMINISTRATEUR HORS CLASSE            TAD2  \n",
       "1  ADMINISTRATEUR HORS CLASSE            TAD2  \n",
       "2  ADMINISTRATEUR HORS CLASSE            TAD2  "
      ]
     },
     "execution_count": 27,
     "metadata": {},
     "output_type": "execute_result"
    }
   ],
   "source": [
    "df.to_csv(\"nomenclature.csv\", index=False)\n",
    "print(df.isna().sum())\n",
    "df.head(3)"
   ]
  },
  {
   "cell_type": "code",
   "execution_count": null,
   "id": "d162a73c-21b5-4a64-bae3-f244da987bdb",
   "metadata": {},
   "outputs": [],
   "source": []
  },
  {
   "cell_type": "code",
   "execution_count": null,
   "id": "c0bc0b65-4772-4705-8f9f-7cfe48911043",
   "metadata": {},
   "outputs": [],
   "source": []
  },
  {
   "cell_type": "code",
   "execution_count": null,
   "id": "5c2eda41-5812-40c3-a3b6-df72e8b7d0f9",
   "metadata": {},
   "outputs": [],
   "source": []
  },
  {
   "cell_type": "code",
   "execution_count": null,
   "id": "bf3167f8-3c62-4af9-a9a9-a105abd46638",
   "metadata": {},
   "outputs": [],
   "source": []
  },
  {
   "cell_type": "code",
   "execution_count": null,
   "id": "0659163f-a1cc-4bc6-a352-1571e3b9149c",
   "metadata": {},
   "outputs": [],
   "source": []
  },
  {
   "cell_type": "code",
   "execution_count": 28,
   "id": "1a772d23-3272-41b1-a201-998a1a2339bd",
   "metadata": {},
   "outputs": [
    {
     "name": "stdout",
     "output_type": "stream",
     "text": [
      "Le libellé non-standardisé 'ingenieur informaticien' correspond au libellé standardisé 'Ingénieur informatique'\n",
      "Le libellé non-standardisé 'Developpeur Full Stack' correspond au libellé standardisé 'Développeur Full Stack'\n",
      "Le libellé non-standardisé 'analyste programmeur' correspond au libellé standardisé 'Analyste programmeur'\n"
     ]
    }
   ],
   "source": [
    "import difflib\n",
    "\n",
    "# liste de libellés non-standardisés\n",
    "non_standard = [\"ingenieur informaticien\", \"Developpeur Full Stack\", \"analyste programmeur\"]\n",
    "\n",
    "# liste de libellés standardisés\n",
    "standard = [\"Ingénieur informatique\", \"Développeur Full Stack\", \"Analyste programmeur\"]\n",
    "\n",
    "# boucle pour trouver des correspondances pour chaque libellé non-standardisé\n",
    "for label in non_standard:\n",
    "    match = difflib.get_close_matches(label, standard, n=1, cutoff=0.6)\n",
    "    if len(match) > 0:\n",
    "        print(\"Le libellé non-standardisé '{}' correspond au libellé standardisé '{}'\".format(label, match[0]))\n",
    "    else:\n",
    "        print(\"Aucune correspondance trouvée pour le libellé non-standardisé '{}'\".format(label))\n"
   ]
  },
  {
   "cell_type": "code",
   "execution_count": 33,
   "id": "a58b499e-10d1-45eb-9a78-3f43e90a6f0e",
   "metadata": {},
   "outputs": [
    {
     "name": "stdout",
     "output_type": "stream",
     "text": [
      "(3, 7)\n",
      "'ingenieur informaticien'-->'Ingénieur informatique'\n",
      "'Developpeur Full Stack'-->'Développeur Full Stack'\n",
      "'analyste programmeur'-->'Analyste programmeur'\n"
     ]
    }
   ],
   "source": []
  }
 ],
 "metadata": {
  "kernelspec": {
   "display_name": "Python 3 (ipykernel)",
   "language": "python",
   "name": "python3"
  },
  "language_info": {
   "codemirror_mode": {
    "name": "ipython",
    "version": 3
   },
   "file_extension": ".py",
   "mimetype": "text/x-python",
   "name": "python",
   "nbconvert_exporter": "python",
   "pygments_lexer": "ipython3",
   "version": "3.9.13"
  }
 },
 "nbformat": 4,
 "nbformat_minor": 5
}
