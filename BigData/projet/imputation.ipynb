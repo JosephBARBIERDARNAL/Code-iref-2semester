{
 "cells": [
  {
   "cell_type": "code",
   "execution_count": 171,
   "id": "911fd9a2-7ea5-4c1d-baf3-44db0c6f33c1",
   "metadata": {},
   "outputs": [],
   "source": [
    "#import modules\n",
    "import pandas as pd \n",
    "import numpy as np\n",
    "import string\n",
    "import re\n",
    "from sklearn.neighbors import NearestNeighbors\n",
    "from sklearn.feature_extraction.text import CountVectorizer\n",
    "from sklearn.feature_extraction.text import HashingVectorizer\n",
    "from sklearn.feature_extraction.text import TfidfVectorizer\n",
    "from sklearn.metrics.pairwise import cosine_similarity\n",
    "from tqdm import tqdm\n",
    "\n",
    "#mask warnings\n",
    "import warnings\n",
    "warnings.filterwarnings(\"ignore\")\n",
    "\n",
    "#import our functions\n",
    "from functions import *\n",
    "def clean_libelle(libelle):\n",
    "    libelle = libelle.upper()\n",
    "    libelle = re.sub(r'[^\\w\\s]', ' ', libelle)\n",
    "    libelle = re.sub(r'\\s+', ' ', libelle)\n",
    "    accents = {'É': 'E', 'È': 'E', 'À': 'A'}\n",
    "    for accent, lettre in accents.items():\n",
    "        libelle = libelle.replace(accent, lettre)\n",
    "    libelle = re.sub(r'\\bADJ\\b', 'ADJOINT', libelle)\n",
    "    libelle = re.sub(r'\\bCL\\b', 'CLASSE', libelle)\n",
    "    libelle = re.sub(r'\\bSUP\\b', 'SUPERIEUR', libelle)\n",
    "    libelle = re.sub(r'\\bINF\\b', 'INFIRMIER', libelle)\n",
    "    libelle = re.sub(r'\\bTEC\\b', 'TECHNIQUE', libelle)\n",
    "    libelle = re.sub(r'\\bTECH\\b', 'TECHNIQUE', libelle)\n",
    "    libelle = re.sub(r'\\bTECHN\\b', 'TECHNIQUE', libelle)\n",
    "    libelle = re.sub(r'\\bADM\\b', 'ADMINISTRATIF', libelle)\n",
    "    libelle = re.sub(r'\\bADMI\\b', 'ADMINISTRATIF', libelle)\n",
    "    libelle = re.sub(r'\\b1ERE\\b', 'PREMIERE', libelle)\n",
    "    libelle = re.sub(r'\\b2EME\\b', 'DEUXIEME', libelle)\n",
    "    libelle = libelle.strip()\n",
    "    return libelle\n",
    "\n",
    "#get path\n",
    "import os\n",
    "path = os.getcwd()"
   ]
  },
  {
   "cell_type": "code",
   "execution_count": 172,
   "id": "7ec7c02d-2c8e-4e57-a511-6914a5717f0b",
   "metadata": {},
   "outputs": [],
   "source": [
    "#df des individus \n",
    "df = pd.read_csv(f\"{path}/20ksample.csv\", encoding='latin-1', low_memory=False)\n",
    "\n",
    "#clean df and save it\n",
    "df = df.rename(columns={'LIBELLE_EMPLOI_GRADE': 'libelle', 'EMPLOI_STATUTAIRE':'code'})\n",
    "df.libelle = df.libelle.astype('category')\n",
    "df['libelle'] = df['libelle'].apply(clean_libelle)\n",
    "df.to_csv(\"clean20K.csv\")\n",
    "\n",
    "#subset 2011\n",
    "df = pd.read_csv(f\"{path}/clean20k.csv\", encoding='latin-1', low_memory=False)\n",
    "df.libelle = df.libelle.astype(\"str\")\n",
    "df['date_fin'] = pd.to_datetime(df['date_fin'], format='%d/%m/%Y')\n",
    "df['date_debut'] = pd.to_datetime(df['date_debut'], format='%d/%m/%Y')\n",
    "df_2011 = df[df['date_debut'] >= '2011-01-01']"
   ]
  },
  {
   "cell_type": "code",
   "execution_count": 109,
   "id": "bfddbc56-530c-4c0c-a47e-b80366d85e0f",
   "metadata": {},
   "outputs": [],
   "source": [
    "#set(df_2011.libelle)"
   ]
  },
  {
   "cell_type": "markdown",
   "id": "e89d15e9-8718-4101-b8e5-2a42d7a1a881",
   "metadata": {},
   "source": [
    "<br>\n",
    "<br>\n",
    "<br>\n",
    "<br>\n",
    "\n",
    "# Correction des libellés\n",
    "\n",
    "##### Parmi l'ensemble des individus, après 2011, si un code un présent, alors on va chercher dans la nomenclature le libelle correspondant. Cela a pour objectif d'augmenter le nombre d'individus avec un libellé standardisé."
   ]
  },
  {
   "cell_type": "code",
   "execution_count": 173,
   "id": "29bf196f-b3c1-44cc-87a7-9922ec31755c",
   "metadata": {},
   "outputs": [],
   "source": [
    "#open nomenclature\n",
    "nomenclature = pd.read_csv(f\"{path}/nomenclature.csv\")\n",
    "nomenclature = nomenclature.rename(columns={'libelle_NEG_rempl': 'libelle', 'code_NETH_rempl':'code'})\n",
    "nomenclature['libelle'] = nomenclature['libelle'].apply(clean_libelle)\n",
    "set_nomenclature = set(nomenclature.libelle)"
   ]
  },
  {
   "cell_type": "code",
   "execution_count": 174,
   "id": "ffb921ec-9c78-4f73-a02c-b84ee7c8fb41",
   "metadata": {},
   "outputs": [
    {
     "name": "stdout",
     "output_type": "stream",
     "text": [
      "Nombre de NaN en moins : 0\n"
     ]
    }
   ],
   "source": [
    "#remplacer libelle (si code, alors mettre le libelle standardisé)\n",
    "na1 = df_2011.isna().sum().sum()\n",
    "df_2011 = remplacer_libelles(df_2011, nomenclature, \"code\", \"libelle\")\n",
    "na2 = df_2011.isna().sum().sum()\n",
    "\n",
    "#na removed\n",
    "print(f\"Nombre de NaN en moins : {na1-na2}\")"
   ]
  },
  {
   "cell_type": "markdown",
   "id": "5bc71589-1113-4f8c-94af-f9b7abbf9e2b",
   "metadata": {},
   "source": [
    "<br>\n",
    "<br>\n",
    "<br>\n",
    "<br>\n",
    "\n",
    "# Approximation des libelle non-standard\n",
    "\n",
    "##### Parmi les libellés non-standardisés restant, on souhaite, pour tous les individus après 2011, à remplacer par un libellé standardisé. Pour cela, on doit calculer une similarité entre les libellés standardisés et non-standardisés. Pour cela il faut d'abord vectorizer les libellés, nous avons utilisés différentes méthodes :\n",
    "- Count vectorizer \n",
    "- Tfidf vectorizer \n",
    "- Hashing vectorizer\n",
    "\n",
    "##### Méthode de similarité testées :\n",
    "- [similarité cosinus](https://fr.wikipedia.org/wiki/Similarité_cosinus) (cosinus de l'angle entre 2 vecteurs de dimensions n)"
   ]
  },
  {
   "cell_type": "code",
   "execution_count": 175,
   "id": "f1f1b9b6-a330-4f73-8d4d-1b7cefb1e421",
   "metadata": {},
   "outputs": [
    {
     "name": "stdout",
     "output_type": "stream",
     "text": [
      "Shape de NSL=1000\n",
      "Shape de SL=8613\n",
      "Shape de Corpus=9613\n"
     ]
    }
   ],
   "source": [
    "#random sample from the df with the observations\n",
    "n = 1000\n",
    "non_standard_labels = list(df_2011.libelle.sample(n))\n",
    "standard_labels = list(set_nomenclature)\n",
    "corpus = non_standard_labels + standard_labels\n",
    "print(f\"Shape de NSL={len(non_standard_labels)}\")\n",
    "print(f\"Shape de SL={len(standard_labels)}\")\n",
    "print(f\"Shape de Corpus={len(corpus)}\")"
   ]
  },
  {
   "cell_type": "code",
   "execution_count": 176,
   "id": "3cdc2ab8-a12c-4067-a428-d3bc574decb1",
   "metadata": {},
   "outputs": [],
   "source": [
    "#define a vectorizer\n",
    "vectorizer1 = CountVectorizer()\n",
    "vectorizer2 = TfidfVectorizer()\n",
    "vectorizer3 = HashingVectorizer()\n",
    "X_non_standard = vectorizer2.fit_transform(non_standard_labels)\n",
    "X_standard = vectorizer2.transform(standard_labels)"
   ]
  },
  {
   "cell_type": "code",
   "execution_count": 181,
   "id": "5f004489-5d8d-4204-b3d2-dbd6dcd10cc2",
   "metadata": {},
   "outputs": [
    {
     "name": "stdout",
     "output_type": "stream",
     "text": [
      "ADJOINT TECHNIQUE PRINCIPAL DE DEUXIEME CLASSE ECH 5 ECH C2 --> ADJOINT TECHNIQUE PRINCIPAL DE DEUXIEME CLASSE ECH 5 ECH C2\n",
      "REDACTEUR PRINCIPAL DE PREMIERE CLASSE TROISIEME GRADE --> REDACTEUR PRINCIPAL DE PREMIERE CLASSE TROISIEME GRADE\n",
      "AGENT DE MAITRISE PRINCIPAL --> AGENT DE MAITRISE PRINCIPAL\n",
      "AGENT DE MAITRISE --> AGENT DE MAITRISE\n",
      "INFIRMIER EN SOINS GENERAUX ET SPECIALISES QUATRIEME GRADE --> INFIRMIER EN SOINS GENERAUX ET SPECIALISES QUATRIEME GRADE\n",
      "ADJOINT TECHNIQUE PRINCIPAL DE DEUXIEME CLASSE DES ETABLISSEMENTS D ENSEIGNEMENT ECH 5 ECH C2 --> ADJOINT TECHNIQUE PRINCIPAL DE DEUXIEME CLASSE DES ETABLISSEMENTS D ENSEIGNEMENT ECH 5 ECH C2\n",
      "ADJOINT TECHNIQUE PRINCIPAL DE DEUXIEME CLASSE ECH 5 ECH C2 --> ADJOINT TECHNIQUE PRINCIPAL DE DEUXIEME CLASSE ECH 5 ECH C2\n"
     ]
    }
   ],
   "source": [
    "similarity_matrix = cosine_similarity(X_non_standard, X_standard)\n",
    "most_similar_labels = []\n",
    "for i in range(len(non_standard_labels)):\n",
    "    most_similar_index = similarity_matrix[i].argmax()\n",
    "    most_similar_label = standard_labels[most_similar_index]\n",
    "    most_similar_labels.append(most_similar_label)\n",
    "    print(f\"{non_standard_labels[i]} --> {most_similar_label}\")\n",
    "    if i > 5:\n",
    "        break"
   ]
  },
  {
   "cell_type": "markdown",
   "id": "dce2af43-69e3-4c3e-b056-50145b1ffaf0",
   "metadata": {},
   "source": [
    "<br>\n",
    "<br>\n",
    "<br>\n",
    "<br>\n",
    "\n",
    "# Remplissage indice brut"
   ]
  },
  {
   "cell_type": "code",
   "execution_count": null,
   "id": "8f24163d-74c5-4cb7-ab5e-47809d136bee",
   "metadata": {},
   "outputs": [
    {
     "data": {
      "text/plain": [
       "<AxesSubplot:xlabel='date_debut', ylabel='INDICE_BRUT'>"
      ]
     },
     "execution_count": 29,
     "metadata": {},
     "output_type": "execute_result"
    },
    {
     "data": {
      "image/png": "[encoded data removed]",
      "text/plain": [
       "<Figure size 640x480 with 1 Axes>"
      ]
     },
     "metadata": {},
     "output_type": "display_data"
    }
   ],
   "source": [
    "df_IBna = df_2011[df_2011.INDICE_BRUT.isna()]\n",
    "df_IBna.ID_CARRIERE.value_counts()\n",
    "df_2011[df_2011.ID_CARRIERE==800094].plot(\"date_debut\",\"INDICE_BRUT\",kind=\"scatter\")"
   ]
  },
  {
   "cell_type": "code",
   "execution_count": null,
   "id": "6438f376-67fb-4ae2-bbd1-99f392fcbeec",
   "metadata": {},
   "outputs": [],
   "source": []
  },
  {
   "cell_type": "code",
   "execution_count": null,
   "id": "733a9540-cc2f-4364-984b-fc7ea1b34af4",
   "metadata": {},
   "outputs": [],
   "source": []
  },
  {
   "cell_type": "code",
   "execution_count": null,
   "id": "b5c5bd13-d797-470f-89d9-bc39c57ba2a9",
   "metadata": {},
   "outputs": [],
   "source": []
  },
  {
   "cell_type": "code",
   "execution_count": null,
   "id": "9a5c6de2-b60b-46e7-a559-63021910ed27",
   "metadata": {},
   "outputs": [],
   "source": []
  },
  {
   "cell_type": "code",
   "execution_count": null,
   "id": "de595430-1ad5-4f4c-b2fb-741af63ac233",
   "metadata": {},
   "outputs": [],
   "source": []
  },
  {
   "cell_type": "code",
   "execution_count": null,
   "id": "14a0f137-59cc-40ae-b869-3b4e346224cf",
   "metadata": {},
   "outputs": [],
   "source": []
  },
  {
   "cell_type": "code",
   "execution_count": null,
   "id": "5f807ab9-97ad-490e-8c64-4e9acf36ef99",
   "metadata": {},
   "outputs": [],
   "source": []
  },
  {
   "cell_type": "code",
   "execution_count": null,
   "id": "2bd2224a-9f0f-4ee6-889a-d87a13bee9e3",
   "metadata": {},
   "outputs": [],
   "source": []
  },
  {
   "cell_type": "code",
   "execution_count": null,
   "id": "5e889ac1-ce2f-4287-bde6-ebf7e5e090cf",
   "metadata": {},
   "outputs": [],
   "source": []
  },
  {
   "cell_type": "code",
   "execution_count": null,
   "id": "d72478ea-d3fa-4320-a1d0-5d761bfb5c98",
   "metadata": {},
   "outputs": [],
   "source": []
  }
 ],
 "metadata": {
  "kernelspec": {
   "display_name": "Python 3 (ipykernel)",
   "language": "python",
   "name": "python3"
  },
  "language_info": {
   "codemirror_mode": {
    "name": "ipython",
    "version": 3
   },
   "file_extension": ".py",
   "mimetype": "text/x-python",
   "name": "python",
   "nbconvert_exporter": "python",
   "pygments_lexer": "ipython3",
   "version": "3.9.13"
  }
 },
 "nbformat": 4,
 "nbformat_minor": 5
}
