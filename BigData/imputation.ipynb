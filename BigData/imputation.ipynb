{
 "cells": [
  {
   "cell_type": "code",
   "execution_count": 37,
   "id": "911fd9a2-7ea5-4c1d-baf3-44db0c6f33c1",
   "metadata": {},
   "outputs": [],
   "source": [
    "import pandas as pd \n",
    "import os\n",
    "import numpy as np\n",
    "import warnings\n",
    "warnings.filterwarnings(\"ignore\")\n",
    "from ipynb.fs.full.fonctions import remplacer_libelles\n",
    "path = os.getcwd()"
   ]
  },
  {
   "cell_type": "markdown",
   "id": "e89d15e9-8718-4101-b8e5-2a42d7a1a881",
   "metadata": {},
   "source": [
    "<br>\n",
    "<br>\n",
    "\n",
    "# Correction des libellés (si code présent)"
   ]
  },
  {
   "cell_type": "code",
   "execution_count": 31,
   "id": "29bf196f-b3c1-44cc-87a7-9922ec31755c",
   "metadata": {},
   "outputs": [
    {
     "name": "stdout",
     "output_type": "stream",
     "text": [
      "Nombre de nan en moins : 128\n"
     ]
    }
   ],
   "source": [
    "#nomenclature\n",
    "nomenclature = pd.read_csv(\"nomenclature.csv\")\n",
    "nomenclature = nomenclature.rename(columns={'libelle_NEG_rempl': 'libelle', 'code_NETH_rempl':'code'})\n",
    "\n",
    "#df des individus \n",
    "df = pd.read_csv(f\"{path}/20ksample.csv\", encoding='latin-1', low_memory=False)\n",
    "df = df.rename(columns={'LIBELLE_EMPLOI_GRADE': 'libelle', 'EMPLOI_STATUTAIRE':'code'})\n",
    "df['date_fin'] = pd.to_datetime(df['date_fin'], format='%d/%m/%Y')\n",
    "df['date_debut'] = pd.to_datetime(df['date_debut'], format='%d/%m/%Y')\n",
    "\n",
    "#subset 2011\n",
    "df_2011 = df[df['date_debut'] >= '2011-01-01']\n",
    "na1 = df_2011.isna().sum().sum()\n",
    "\n",
    "#remplacer libelle\n",
    "df_2011 = remplacer_libelles(df_2011, nomenclature, \"code\", \"libelle\")\n",
    "na2 = df_2011.isna().sum().sum()\n",
    "\n",
    "#na removed\n",
    "print(f\"Nombre de nan en moins : {na1-na2}\")"
   ]
  },
  {
   "cell_type": "code",
   "execution_count": 43,
   "id": "17c87997-c878-4c68-abab-ba515ed851c3",
   "metadata": {},
   "outputs": [
    {
     "data": {
      "text/plain": [
       "ID_CARRIERE              0\n",
       "date_debut               0\n",
       "date_fin                 0\n",
       "ETAT                     0\n",
       "CATEGORIE_EMPLOI         1\n",
       "QUALITE                  1\n",
       "STATUT_AGENT             0\n",
       "INDICE_BRUT            122\n",
       "code                 40123\n",
       "libelle               4449\n",
       "Unnamed: 10         520118\n",
       "Unnamed: 11         520859\n",
       "dtype: int64"
      ]
     },
     "execution_count": 43,
     "metadata": {},
     "output_type": "execute_result"
    }
   ],
   "source": [
    "df_2011.isna().sum()"
   ]
  },
  {
   "cell_type": "markdown",
   "id": "5bc71589-1113-4f8c-94af-f9b7abbf9e2b",
   "metadata": {},
   "source": [
    "<br>\n",
    "<br>\n",
    "\n",
    "# Complétion IB ou échelon si code+IB/échelon"
   ]
  },
  {
   "cell_type": "code",
   "execution_count": null,
   "id": "4089151e-7816-453c-a622-f4810d924136",
   "metadata": {},
   "outputs": [],
   "source": []
  },
  {
   "cell_type": "code",
   "execution_count": null,
   "id": "b5a0250d-36da-4551-bbbe-401b04ddeb06",
   "metadata": {},
   "outputs": [],
   "source": []
  },
  {
   "cell_type": "code",
   "execution_count": null,
   "id": "43be6194-20f8-4d57-9a53-cefb54631481",
   "metadata": {},
   "outputs": [],
   "source": []
  },
  {
   "cell_type": "code",
   "execution_count": null,
   "id": "27774be5-9619-4411-aee1-e023e6a689b1",
   "metadata": {},
   "outputs": [],
   "source": []
  }
 ],
 "metadata": {
  "kernelspec": {
   "display_name": "Python 3 (ipykernel)",
   "language": "python",
   "name": "python3"
  },
  "language_info": {
   "codemirror_mode": {
    "name": "ipython",
    "version": 3
   },
   "file_extension": ".py",
   "mimetype": "text/x-python",
   "name": "python",
   "nbconvert_exporter": "python",
   "pygments_lexer": "ipython3",
   "version": "3.9.13"
  }
 },
 "nbformat": 4,
 "nbformat_minor": 5
}
